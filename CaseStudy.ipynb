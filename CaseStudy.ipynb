import pandas as pd
import numpy as np

df = pd.read_csv("styles.csv",error_bad_lines=False)
df.drop(["gender","subCategory","articleType","baseColour","season","year","usage","productDisplayName"],axis=1)

import matplotlib.pyplot as plt
import seaborn as sns

df.masterCategory.unique()

import seaborn as sns
sns.set(style="darkgrid")
ax = sns.countplot(x="masterCategory", data=df)
plt.show()

import matplotlib.pyplot as plt
my_img = plt.imread('images/1796.jpg')
print(my_img.shape)
x = my_img.flatten()
print(x.shape)

arrays = []
names = []

for index, row in df.iterrows():
    y = row["id"]
    try:
        plt.imread("images/{}.jpg".format(y)).flatten().shape == x.shape
        names.append(row["id"])
        arrays.append( plt.imread("images/{}.jpg".format(y)).flatten().shape)
    except FileNotFoundError:
        df.drop(row["id"], axis=0) 
        
  len(names)      
  len(arrays)
